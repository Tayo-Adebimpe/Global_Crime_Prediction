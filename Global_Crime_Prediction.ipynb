{
 "cells": [
  {
   "cell_type": "markdown",
   "id": "6a497bb9-a22b-4549-99e6-5ad88bef62f8",
   "metadata": {
    "gradient": {
     "editing": false
    }
   },
   "source": [
    "GLOBAL CRIME PREDICTION\r\n",
    "\r\n",
    "Crime and insecurity has become one of the major global problems and source of worries to many nations and governments. The rate of crimes is on the rise in many nations of the world. Terriorism, homicide, suicide, violence, man-slaughter, drug abuse, gun abuse, robbery, frauds, cyber crimes, kidnapping, sexual assults, political unrest and other forms of crimes are threatening economic activities, economic growth, peace and progress of many nations. These may be common in the developing nations but the developed nations have not been spared, a number of them are having a fair share of the large scale and coordinated crimes.\r\n",
    "\r\n",
    "Hence, the project seeks to develop a ML Model that will accurately predict crimes in different nations of the world so as to help the crime fighters prevent the crimes.\r\n",
    "\r\n",
    "Using the United Nations' dataset on crimes from Kaggle, these are the objectives of the model:\r\n",
    "\r\n",
    "What are the top 20 unsafe countries in the World?\r\n",
    "\r\n",
    "what are the top 5 crimes in these 20 countries?\r\n",
    "\r\n",
    "what is their rates of occurrence?\r\n",
    "\r\n",
    "predict when these 5 crimes will occur"
   ]
  },
  {
   "cell_type": "code",
   "execution_count": null,
   "id": "867aafd6-0cc0-4faa-8929-17f1ddd6cc2d",
   "metadata": {
    "collapsed": false,
    "gradient": {
     "editing": false,
     "source_hidden": false
    }
   },
   "outputs": [],
   "source": [
    "import numpy as np \r\n",
    "import pandas as pd \r\n",
    "import seaborn as sb  \r\n",
    "import matplotlib.pyplot as plt \r\n",
    "import statsmodels.formula.api as smf\r\n",
    "import statsmodels.stats.multicomp as multi\r\n",
    "import datetime as dt \r\n",
    "import re \r\n",
    "\r\n",
    "\r\n"
   ]
  },
  {
   "cell_type": "code",
   "execution_count": null,
   "id": "505d4a6d-24d2-47bc-bfad-6bbd34cad11d",
   "metadata": {
    "collapsed": false,
    "gradient": {
     "editing": false,
     "source_hidden": false
    }
   },
   "outputs": [],
   "source": [
    "data=pd.read_csv('Crimes_UN_data.csv')"
   ]
  },
  {
   "cell_type": "code",
   "execution_count": null,
   "id": "f3983d15-7dc7-4c2f-92c4-622bb295fb90",
   "metadata": {
    "collapsed": false,
    "gradient": {
     "editing": false,
     "source_hidden": false
    }
   },
   "outputs": [
    {
     "data": {
      "text/html": [
       "<div>\n",
       "<style scoped>\n",
       "    .dataframe tbody tr th:only-of-type {\n",
       "        vertical-align: middle;\n",
       "    }\n",
       "\n",
       "    .dataframe tbody tr th {\n",
       "        vertical-align: top;\n",
       "    }\n",
       "\n",
       "    .dataframe thead th {\n",
       "        text-align: right;\n",
       "    }\n",
       "</style>\n",
       "<table border=\"1\" class=\"dataframe\">\n",
       "  <thead>\n",
       "    <tr style=\"text-align: right;\">\n",
       "      <th></th>\n",
       "      <th>Occurrence</th>\n",
       "      <th>Region/Country/Area</th>\n",
       "      <th>Year</th>\n",
       "      <th>Series</th>\n",
       "      <th>Value</th>\n",
       "      <th>Footnotes</th>\n",
       "      <th>Source</th>\n",
       "    </tr>\n",
       "  </thead>\n",
       "  <tbody>\n",
       "    <tr>\n",
       "      <th>0</th>\n",
       "      <td>1</td>\n",
       "      <td>Total, all countries or areas</td>\n",
       "      <td>2015</td>\n",
       "      <td>Intentional homicide rates per 100,000</td>\n",
       "      <td>5.3</td>\n",
       "      <td>Data is for 2015, or latest available data fro...</td>\n",
       "      <td>United Nations Office on Drugs and Crime (UNOD...</td>\n",
       "    </tr>\n",
       "    <tr>\n",
       "      <th>1</th>\n",
       "      <td>202</td>\n",
       "      <td>Sub-Saharan Africa</td>\n",
       "      <td>2015</td>\n",
       "      <td>Intentional homicide rates per 100,000</td>\n",
       "      <td>9.6</td>\n",
       "      <td>Data is for 2015, or latest available data fro...</td>\n",
       "      <td>United Nations Office on Drugs and Crime (UNOD...</td>\n",
       "    </tr>\n",
       "    <tr>\n",
       "      <th>2</th>\n",
       "      <td>419</td>\n",
       "      <td>Latin America &amp; the Caribbean</td>\n",
       "      <td>2015</td>\n",
       "      <td>Intentional homicide rates per 100,000</td>\n",
       "      <td>22.3</td>\n",
       "      <td>Data is for 2015, or latest available data fro...</td>\n",
       "      <td>United Nations Office on Drugs and Crime (UNOD...</td>\n",
       "    </tr>\n",
       "    <tr>\n",
       "      <th>3</th>\n",
       "      <td>62</td>\n",
       "      <td>South-central Asia</td>\n",
       "      <td>2015</td>\n",
       "      <td>Intentional homicide rates per 100,000</td>\n",
       "      <td>3.7</td>\n",
       "      <td>Data is for 2015, or latest available data fro...</td>\n",
       "      <td>United Nations Office on Drugs and Crime (UNOD...</td>\n",
       "    </tr>\n",
       "    <tr>\n",
       "      <th>4</th>\n",
       "      <td>53</td>\n",
       "      <td>Australia and New Zealand</td>\n",
       "      <td>2015</td>\n",
       "      <td>Intentional homicide rates per 100,000</td>\n",
       "      <td>1</td>\n",
       "      <td>Data is for 2015, or latest available data fro...</td>\n",
       "      <td>United Nations Office on Drugs and Crime (UNOD...</td>\n",
       "    </tr>\n",
       "  </tbody>\n",
       "</table>\n",
       "</div>"
      ],
      "text/plain": [
       "   Occurrence            Region/Country/Area  Year  \\\n",
       "0           1  Total, all countries or areas  2015   \n",
       "1         202             Sub-Saharan Africa  2015   \n",
       "2         419  Latin America & the Caribbean  2015   \n",
       "3          62             South-central Asia  2015   \n",
       "4          53      Australia and New Zealand  2015   \n",
       "\n",
       "                                   Series Value  \\\n",
       "0  Intentional homicide rates per 100,000   5.3   \n",
       "1  Intentional homicide rates per 100,000   9.6   \n",
       "2  Intentional homicide rates per 100,000  22.3   \n",
       "3  Intentional homicide rates per 100,000   3.7   \n",
       "4  Intentional homicide rates per 100,000     1   \n",
       "\n",
       "                                           Footnotes  \\\n",
       "0  Data is for 2015, or latest available data fro...   \n",
       "1  Data is for 2015, or latest available data fro...   \n",
       "2  Data is for 2015, or latest available data fro...   \n",
       "3  Data is for 2015, or latest available data fro...   \n",
       "4  Data is for 2015, or latest available data fro...   \n",
       "\n",
       "                                              Source  \n",
       "0  United Nations Office on Drugs and Crime (UNOD...  \n",
       "1  United Nations Office on Drugs and Crime (UNOD...  \n",
       "2  United Nations Office on Drugs and Crime (UNOD...  \n",
       "3  United Nations Office on Drugs and Crime (UNOD...  \n",
       "4  United Nations Office on Drugs and Crime (UNOD...  "
      ]
     },
     "execution_count": 35,
     "metadata": {},
     "output_type": "execute_result"
    }
   ],
   "source": [
    "data.head(5)"
   ]
  },
  {
   "cell_type": "code",
   "execution_count": null,
   "id": "af7a2ed5-2ba7-41f2-9cea-f64bc7940688",
   "metadata": {
    "collapsed": false,
    "gradient": {
     "editing": false,
     "source_hidden": false
    }
   },
   "outputs": [
    {
     "name": "stdout",
     "output_type": "stream",
     "text": [
      "<class 'pandas.core.frame.DataFrame'>\n",
      "RangeIndex: 3394 entries, 0 to 3393\n",
      "Data columns (total 7 columns):\n",
      " #   Column               Non-Null Count  Dtype \n",
      "---  ------               --------------  ----- \n",
      " 0   Occurrence           3394 non-null   int64 \n",
      " 1   Region/Country/Area  3394 non-null   object\n",
      " 2   Year                 3394 non-null   int64 \n",
      " 3   Series               3394 non-null   object\n",
      " 4   Value                3394 non-null   object\n",
      " 5   Footnotes            398 non-null    object\n",
      " 6   Source               3394 non-null   object\n",
      "dtypes: int64(2), object(5)\n",
      "memory usage: 185.7+ KB\n"
     ]
    }
   ],
   "source": [
    "data.info()"
   ]
  },
  {
   "cell_type": "code",
   "execution_count": null,
   "id": "082e02e1-28e8-49be-9249-e17d5b7a9009",
   "metadata": {
    "collapsed": false,
    "gradient": {
     "editing": false,
     "source_hidden": false
    }
   },
   "outputs": [
    {
     "data": {
      "image/png": "[encoded data removed]",
      "text/plain": [
       "<Figure size 720x360 with 1 Axes>"
      ]
     },
     "metadata": {
      "needs_background": "light"
     },
     "output_type": "display_data",
     "transient": {}
    }
   ],
   "source": [
    "plt.figure(figsize=(10,5))\r\n",
    "sb.heatmap(data.isnull(), cmap='magma',yticklabels=False,cbar=False)\r\n",
    "plt.show()"
   ]
  },
  {
   "cell_type": "code",
   "execution_count": null,
   "id": "a1a9f403-f4fc-4772-8a42-e908bf44cf14",
   "metadata": {
    "collapsed": false,
    "gradient": {
     "editing": false,
     "source_hidden": false
    }
   },
   "outputs": [
    {
     "data": {
      "text/plain": [
       "array(['Data is for 2015, or latest available data from 2010 onwards.',\n",
       "       'Data is for 2015, or latest available data from 2010 onwards.;Excludes Australia and New Zealand.',\n",
       "       nan, 'Break in the time series.',\n",
       "       'Data refer to offences, not victims, of intentional homicide.',\n",
       "       'For statistical purposes, the data for China do not include those for the Hong Kong Special Administrative Region (Hong Kong SAR), Macao Special Administrative Region (Macao SAR) and Taiwan Province of China.',\n",
       "       'Estimate.', 'Excluding victims of terrorist attacks.',\n",
       "       'Data refer to Central Iraq.',\n",
       "       'Include victims of attempted homicide.',\n",
       "       'England and Wales only.'], dtype=object)"
      ]
     },
     "execution_count": 38,
     "metadata": {},
     "output_type": "execute_result"
    }
   ],
   "source": [
    "data['Footnotes'].unique()"
   ]
  },
  {
   "cell_type": "markdown",
   "id": "3a67039a-0ecf-4bd1-8063-d6dcdb8d626a",
   "metadata": {
    "gradient": {
     "editing": false
    }
   },
   "source": [
    "Data Cleaning\r\n"
   ]
  },
  {
   "cell_type": "code",
   "execution_count": null,
   "id": "87508b2c-0f67-411c-a5f2-92a90df4766f",
   "metadata": {
    "collapsed": false,
    "gradient": {
     "editing": false,
     "source_hidden": false
    }
   },
   "outputs": [],
   "source": [
    "data['Value'] = data['Value'].apply(lambda x : x.replace(',',''))   # to replace ,\r\n",
    "data['Value'] = data['Value'].apply(lambda x : float(x))   # to convert object(string data type) to float (decimal numbers)\r\n"
   ]
  },
  {
   "cell_type": "code",
   "execution_count": null,
   "id": "1e8b9798-347a-41b9-99a4-a29c7bcd778f",
   "metadata": {
    "collapsed": false,
    "gradient": {
     "editing": false,
     "source_hidden": false
    }
   },
   "outputs": [
    {
     "data": {
      "text/html": [
       "<div>\n",
       "<style scoped>\n",
       "    .dataframe tbody tr th:only-of-type {\n",
       "        vertical-align: middle;\n",
       "    }\n",
       "\n",
       "    .dataframe tbody tr th {\n",
       "        vertical-align: top;\n",
       "    }\n",
       "\n",
       "    .dataframe thead th {\n",
       "        text-align: right;\n",
       "    }\n",
       "</style>\n",
       "<table border=\"1\" class=\"dataframe\">\n",
       "  <thead>\n",
       "    <tr style=\"text-align: right;\">\n",
       "      <th></th>\n",
       "      <th>Occurrence</th>\n",
       "      <th>Region/Country/Area</th>\n",
       "      <th>Year</th>\n",
       "      <th>Series</th>\n",
       "      <th>Value</th>\n",
       "      <th>Footnotes</th>\n",
       "      <th>Source</th>\n",
       "    </tr>\n",
       "  </thead>\n",
       "  <tbody>\n",
       "    <tr>\n",
       "      <th>0</th>\n",
       "      <td>False</td>\n",
       "      <td>False</td>\n",
       "      <td>False</td>\n",
       "      <td>False</td>\n",
       "      <td>False</td>\n",
       "      <td>False</td>\n",
       "      <td>False</td>\n",
       "    </tr>\n",
       "    <tr>\n",
       "      <th>1</th>\n",
       "      <td>False</td>\n",
       "      <td>False</td>\n",
       "      <td>False</td>\n",
       "      <td>False</td>\n",
       "      <td>False</td>\n",
       "      <td>False</td>\n",
       "      <td>False</td>\n",
       "    </tr>\n",
       "    <tr>\n",
       "      <th>2</th>\n",
       "      <td>False</td>\n",
       "      <td>False</td>\n",
       "      <td>False</td>\n",
       "      <td>False</td>\n",
       "      <td>False</td>\n",
       "      <td>False</td>\n",
       "      <td>False</td>\n",
       "    </tr>\n",
       "    <tr>\n",
       "      <th>3</th>\n",
       "      <td>False</td>\n",
       "      <td>False</td>\n",
       "      <td>False</td>\n",
       "      <td>False</td>\n",
       "      <td>False</td>\n",
       "      <td>False</td>\n",
       "      <td>False</td>\n",
       "    </tr>\n",
       "    <tr>\n",
       "      <th>4</th>\n",
       "      <td>False</td>\n",
       "      <td>False</td>\n",
       "      <td>False</td>\n",
       "      <td>False</td>\n",
       "      <td>False</td>\n",
       "      <td>False</td>\n",
       "      <td>False</td>\n",
       "    </tr>\n",
       "    <tr>\n",
       "      <th>...</th>\n",
       "      <td>...</td>\n",
       "      <td>...</td>\n",
       "      <td>...</td>\n",
       "      <td>...</td>\n",
       "      <td>...</td>\n",
       "      <td>...</td>\n",
       "      <td>...</td>\n",
       "    </tr>\n",
       "    <tr>\n",
       "      <th>3389</th>\n",
       "      <td>False</td>\n",
       "      <td>False</td>\n",
       "      <td>False</td>\n",
       "      <td>False</td>\n",
       "      <td>False</td>\n",
       "      <td>True</td>\n",
       "      <td>False</td>\n",
       "    </tr>\n",
       "    <tr>\n",
       "      <th>3390</th>\n",
       "      <td>False</td>\n",
       "      <td>False</td>\n",
       "      <td>False</td>\n",
       "      <td>False</td>\n",
       "      <td>False</td>\n",
       "      <td>True</td>\n",
       "      <td>False</td>\n",
       "    </tr>\n",
       "    <tr>\n",
       "      <th>3391</th>\n",
       "      <td>False</td>\n",
       "      <td>False</td>\n",
       "      <td>False</td>\n",
       "      <td>False</td>\n",
       "      <td>False</td>\n",
       "      <td>True</td>\n",
       "      <td>False</td>\n",
       "    </tr>\n",
       "    <tr>\n",
       "      <th>3392</th>\n",
       "      <td>False</td>\n",
       "      <td>False</td>\n",
       "      <td>False</td>\n",
       "      <td>False</td>\n",
       "      <td>False</td>\n",
       "      <td>True</td>\n",
       "      <td>False</td>\n",
       "    </tr>\n",
       "    <tr>\n",
       "      <th>3393</th>\n",
       "      <td>False</td>\n",
       "      <td>False</td>\n",
       "      <td>False</td>\n",
       "      <td>False</td>\n",
       "      <td>False</td>\n",
       "      <td>True</td>\n",
       "      <td>False</td>\n",
       "    </tr>\n",
       "  </tbody>\n",
       "</table>\n",
       "<p>3394 rows × 7 columns</p>\n",
       "</div>"
      ],
      "text/plain": [
       "      Occurrence  Region/Country/Area   Year  Series  Value  Footnotes  Source\n",
       "0          False                False  False   False  False      False   False\n",
       "1          False                False  False   False  False      False   False\n",
       "2          False                False  False   False  False      False   False\n",
       "3          False                False  False   False  False      False   False\n",
       "4          False                False  False   False  False      False   False\n",
       "...          ...                  ...    ...     ...    ...        ...     ...\n",
       "3389       False                False  False   False  False       True   False\n",
       "3390       False                False  False   False  False       True   False\n",
       "3391       False                False  False   False  False       True   False\n",
       "3392       False                False  False   False  False       True   False\n",
       "3393       False                False  False   False  False       True   False\n",
       "\n",
       "[3394 rows x 7 columns]"
      ]
     },
     "execution_count": 40,
     "metadata": {},
     "output_type": "execute_result"
    }
   ],
   "source": [
    "data.isnull()"
   ]
  },
  {
   "cell_type": "code",
   "execution_count": null,
   "id": "8158de9a-a2c2-4493-9e08-45693484607a",
   "metadata": {
    "collapsed": false,
    "gradient": {
     "editing": false,
     "source_hidden": false
    }
   },
   "outputs": [],
   "source": [
    "data.drop(data['Footnotes'].isnull().index,inplace=True)"
   ]
  },
  {
   "cell_type": "code",
   "execution_count": null,
   "id": "7fdb0f5b-8884-49c5-8150-641b537d51c9",
   "metadata": {
    "collapsed": false,
    "gradient": {
     "editing": false,
     "source_hidden": false
    }
   },
   "outputs": [
    {
     "data": {
      "text/plain": [
       "(0, 7)"
      ]
     },
     "execution_count": 42,
     "metadata": {},
     "output_type": "execute_result"
    }
   ],
   "source": [
    "data.shape"
   ]
  },
  {
   "cell_type": "code",
   "execution_count": null,
   "id": "851f3c8d-bde0-4f8d-84f3-a04699450fe1",
   "metadata": {
    "collapsed": false,
    "gradient": {
     "editing": false,
     "source_hidden": false
    }
   },
   "outputs": [
    {
     "data": {
      "text/plain": [
       "Occurrence             0.0\n",
       "Region/Country/Area    0.0\n",
       "Year                   0.0\n",
       "Series                 0.0\n",
       "Value                  0.0\n",
       "Footnotes              0.0\n",
       "Source                 0.0\n",
       "dtype: float64"
      ]
     },
     "execution_count": 43,
     "metadata": {},
     "output_type": "execute_result"
    }
   ],
   "source": [
    "data.isnull().sum()"
   ]
  },
  {
   "cell_type": "markdown",
   "id": "7169415a-b050-4490-99c8-282766db057e",
   "metadata": {
    "gradient": {
     "editing": false
    }
   },
   "source": [
    "Visualization\r\n",
    "\r\n",
    "What are the 20 most unsafe countries due to crimes"
   ]
  },
  {
   "cell_type": "code",
   "execution_count": null,
   "id": "7b294b3f-2cc2-4fb2-9d6e-a1af11eda486",
   "metadata": {
    "collapsed": false,
    "gradient": {
     "editing": false,
     "source_hidden": false
    }
   },
   "outputs": [
    {
     "data": {
      "text/html": [
       "<div>\n",
       "<style scoped>\n",
       "    .dataframe tbody tr th:only-of-type {\n",
       "        vertical-align: middle;\n",
       "    }\n",
       "\n",
       "    .dataframe tbody tr th {\n",
       "        vertical-align: top;\n",
       "    }\n",
       "\n",
       "    .dataframe thead th {\n",
       "        text-align: right;\n",
       "    }\n",
       "</style>\n",
       "<table border=\"1\" class=\"dataframe\">\n",
       "  <thead>\n",
       "    <tr style=\"text-align: right;\">\n",
       "      <th></th>\n",
       "      <th>Country</th>\n",
       "      <th>Value</th>\n",
       "    </tr>\n",
       "  </thead>\n",
       "  <tbody>\n",
       "  </tbody>\n",
       "</table>\n",
       "</div>"
      ],
      "text/plain": [
       "Empty DataFrame\n",
       "Columns: [Country, Value]\n",
       "Index: []"
      ]
     },
     "execution_count": 44,
     "metadata": {},
     "output_type": "execute_result"
    }
   ],
   "source": [
    "## Top 20 countries in crimes\r\n",
    "\r\n",
    "toptwentycountry=[]\r\n",
    "for country in data['Region/Country/Area'].unique():\r\n",
    "    df=data[data['Region/Country/Area']==country]\r\n",
    "    Summary= df['Value'].sum()\r\n",
    "    toptwentycountry.append([country,Summary])\r\n",
    "\r\n",
    "country=pd.DataFrame(toptwentycountry,columns=['Country', 'Value'])\r\n",
    "country.sort_values(by = 'Value',ascending = False, inplace=True)\r\n",
    "\r\n",
    "country\r\n"
   ]
  },
  {
   "cell_type": "code",
   "execution_count": null,
   "id": "b92b388d-9175-4a32-87fb-eb0a502a00da",
   "metadata": {
    "collapsed": false,
    "gradient": {
     "editing": false,
     "source_hidden": false
    }
   },
   "outputs": [
    {
     "data": {
      "text/html": [
       "<div>\n",
       "<style scoped>\n",
       "    .dataframe tbody tr th:only-of-type {\n",
       "        vertical-align: middle;\n",
       "    }\n",
       "\n",
       "    .dataframe tbody tr th {\n",
       "        vertical-align: top;\n",
       "    }\n",
       "\n",
       "    .dataframe thead th {\n",
       "        text-align: right;\n",
       "    }\n",
       "</style>\n",
       "<table border=\"1\" class=\"dataframe\">\n",
       "  <thead>\n",
       "    <tr style=\"text-align: right;\">\n",
       "      <th></th>\n",
       "      <th>Country</th>\n",
       "      <th>Value</th>\n",
       "    </tr>\n",
       "  </thead>\n",
       "  <tbody>\n",
       "  </tbody>\n",
       "</table>\n",
       "</div>"
      ],
      "text/plain": [
       "Empty DataFrame\n",
       "Columns: [Country, Value]\n",
       "Index: []"
      ]
     },
     "execution_count": 45,
     "metadata": {},
     "output_type": "execute_result"
    }
   ],
   "source": [
    "# Top 20 country according to sum of values\r\n",
    "country[:20]"
   ]
  },
  {
   "cell_type": "code",
   "execution_count": null,
   "id": "43fcb15b-c3c1-4725-b87e-12a3c85f07c6",
   "metadata": {
    "collapsed": false,
    "gradient": {
     "editing": false,
     "source_hidden": false
    }
   },
   "outputs": [
    {
     "data": {
      "text/plain": [
       "Series([], Name: Country, dtype: object)"
      ]
     },
     "execution_count": 46,
     "metadata": {},
     "output_type": "execute_result"
    }
   ],
   "source": [
    "# Top 20 countries\r\n",
    "top_20 = country.Country[:20]\r\n",
    "top_20"
   ]
  },
  {
   "cell_type": "code",
   "execution_count": null,
   "id": "f2bf7217-0c7b-467c-9a96-14d595107bfa",
   "metadata": {
    "collapsed": false,
    "gradient": {
     "editing": false,
     "source_hidden": false
    }
   },
   "outputs": [
    {
     "name": "stdout",
     "output_type": "stream",
     "text": [
      "Empty DataFrame\n",
      "Columns: []\n",
      "Index: []\n"
     ]
    }
   ],
   "source": [
    "# result dataframe with 5 rows(5 most common crime) for each of the top 20 countries\r\n",
    "\r\n",
    "result = pd.DataFrame()\r\n",
    "for i in top_20:\r\n",
    "    top5 = data[data['Region/Country/Area'] == i].sort_values(by='Value', ascending = False)[:5]\r\n",
    "    result = result.append(top5)\r\n",
    "\r\n",
    "print(result)\r\n"
   ]
  },
  {
   "cell_type": "code",
   "execution_count": null,
   "id": "d933ee14-197a-444b-8269-7ce3b33454d4",
   "metadata": {
    "collapsed": false,
    "gradient": {
     "editing": false,
     "source_hidden": false
    }
   },
   "outputs": [
    {
     "data": {
      "text/html": [
       "<div>\n",
       "<style scoped>\n",
       "    .dataframe tbody tr th:only-of-type {\n",
       "        vertical-align: middle;\n",
       "    }\n",
       "\n",
       "    .dataframe tbody tr th {\n",
       "        vertical-align: top;\n",
       "    }\n",
       "\n",
       "    .dataframe thead th {\n",
       "        text-align: right;\n",
       "    }\n",
       "</style>\n",
       "<table border=\"1\" class=\"dataframe\">\n",
       "  <thead>\n",
       "    <tr style=\"text-align: right;\">\n",
       "      <th></th>\n",
       "    </tr>\n",
       "  </thead>\n",
       "  <tbody>\n",
       "  </tbody>\n",
       "</table>\n",
       "</div>"
      ],
      "text/plain": [
       "Empty DataFrame\n",
       "Columns: []\n",
       "Index: []"
      ]
     },
     "execution_count": 48,
     "metadata": {},
     "output_type": "execute_result"
    }
   ],
   "source": [
    "result"
   ]
  }
 ],
 "metadata": {},
 "nbformat": 4,
 "nbformat_minor": 5
}
